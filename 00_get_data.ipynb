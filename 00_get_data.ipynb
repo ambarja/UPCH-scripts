{
  "cells": [
    {
      "cell_type": "markdown",
      "metadata": {
        "id": "view-in-github",
        "colab_type": "text"
      },
      "source": [
        "<a href=\"https://colab.research.google.com/github/ambarja/utilsUPCH/blob/main/00_get_data.ipynb\" target=\"_parent\"><img src=\"https://colab.research.google.com/assets/colab-badge.svg\" alt=\"Open In Colab\"/></a>"
      ]
    },
    {
      "cell_type": "markdown",
      "source": [
        "## **ERA5Land and Chirps weighted by Population**"
      ],
      "metadata": {
        "id": "S9iKoueKfO6F"
      }
    },
    {
      "cell_type": "code",
      "execution_count": 4,
      "metadata": {
        "id": "WSdhRbe7dyJR"
      },
      "outputs": [],
      "source": [
        "import ee\n",
        "import geemap\n",
        "import geopandas as gpd\n",
        "import pandas as pd\n",
        "import os"
      ]
    },
    {
      "cell_type": "code",
      "execution_count": null,
      "metadata": {
        "id": "QCGNfS-Id2tj"
      },
      "outputs": [],
      "source": [
        "# Authenticate in Google Earth Engine\n",
        "ee.Authenticate()\n",
        "ee.Initialize(project='ee-geografope')"
      ]
    },
    {
      "cell_type": "code",
      "execution_count": null,
      "metadata": {
        "id": "yNFUKujdebH0"
      },
      "outputs": [],
      "source": [
        "# District dataset original without simplify\n",
        "dist = ee.FeatureCollection('users/geografo2023/distritos_inei_2017')"
      ]
    },
    {
      "cell_type": "code",
      "execution_count": null,
      "metadata": {
        "id": "QycgDEsDguMw"
      },
      "outputs": [],
      "source": [
        "# Define the output of dataset\n",
        "out_dir = os.path.join(os.path.expanduser(\"~\"), \"/content/drive/MyDrive/paloma\")"
      ]
    },
    {
      "cell_type": "markdown",
      "source": [
        "### **1. Working with Population data of WorldPop**"
      ],
      "metadata": {
        "id": "mVF9OQIefhOd"
      }
    },
    {
      "cell_type": "code",
      "execution_count": null,
      "metadata": {
        "id": "5qIDAql7t4fX"
      },
      "outputs": [],
      "source": [
        "# Population dataset for Peru - WorldPop\n",
        "pop_2000 = ee.Image('WorldPop/GP/100m/pop/PER_2000').rename('pop_2000');pop_2001 = ee.Image('WorldPop/GP/100m/pop/PER_2001').rename('pop_2001')\n",
        "pop_2002 = ee.Image('WorldPop/GP/100m/pop/PER_2002').rename('pop_2002');pop_2003 = ee.Image('WorldPop/GP/100m/pop/PER_2003').rename('pop_2003')\n",
        "pop_2004 = ee.Image('WorldPop/GP/100m/pop/PER_2004').rename('pop_2004');pop_2005 = ee.Image('WorldPop/GP/100m/pop/PER_2005').rename('pop_2005')\n",
        "pop_2006 = ee.Image('WorldPop/GP/100m/pop/PER_2006').rename('pop_2006');pop_2007 = ee.Image('WorldPop/GP/100m/pop/PER_2007').rename('pop_2007')\n",
        "pop_2008 = ee.Image('WorldPop/GP/100m/pop/PER_2008').rename('pop_2008');pop_2009 = ee.Image('WorldPop/GP/100m/pop/PER_2009').rename('pop_2009')\n",
        "pop_2010 = ee.Image('WorldPop/GP/100m/pop/PER_2010').rename('pop_2010');pop_2011 = ee.Image('WorldPop/GP/100m/pop/PER_2011').rename('pop_2011')\n",
        "pop_2012 = ee.Image('WorldPop/GP/100m/pop/PER_2012').rename('pop_2012');pop_2013 = ee.Image('WorldPop/GP/100m/pop/PER_2013').rename('pop_2013')\n",
        "pop_2014 = ee.Image('WorldPop/GP/100m/pop/PER_2014').rename('pop_2014');pop_2015 = ee.Image('WorldPop/GP/100m/pop/PER_2015').rename('pop_2015')\n",
        "pop_2016 = ee.Image('WorldPop/GP/100m/pop/PER_2016').rename('pop_2016');pop_2017 = ee.Image('WorldPop/GP/100m/pop/PER_2017').rename('pop_2017')\n",
        "pop_2018 = ee.Image('WorldPop/GP/100m/pop/PER_2018').rename('pop_2018');pop_2019 = ee.Image('WorldPop/GP/100m/pop/PER_2019').rename('pop_2019')\n",
        "pop_2020 = ee.Image('WorldPop/GP/100m/pop/PER_2020').rename('pop_2020');pop_2021 = ee.Image('WorldPop/GP/100m/pop/PER_2020').rename('pop_2021')\n",
        "pop_2022 = ee.Image('WorldPop/GP/100m/pop/PER_2020').rename('pop_2022');pop_2023 = ee.Image('WorldPop/GP/100m/pop/PER_2020').rename('pop_2023')"
      ]
    },
    {
      "cell_type": "code",
      "source": [
        "# New ImageCollection for Peru (2000-2023)\n",
        "pop_total = ee.ImageCollection([\n",
        "    pop_2000,pop_2001,pop_2002,pop_2003,pop_2004,pop_2005,pop_2006,pop_2007,pop_2008,pop_2009,pop_2010,pop_2011,\n",
        "    pop_2012,pop_2013,pop_2014,pop_2015,pop_2016,pop_2017,pop_2018,pop_2019,pop_2020,pop_2021,pop_2022,pop_2023]).toBands()"
      ],
      "metadata": {
        "id": "8NH6ApWfey9n"
      },
      "execution_count": null,
      "outputs": []
    },
    {
      "cell_type": "code",
      "execution_count": null,
      "metadata": {
        "id": "2oDBLtXtvZpQ"
      },
      "outputs": [],
      "source": [
        "# Downloading Population dataset from EE\n",
        "out_pop_stats = os.path.join(out_dir, \"population_2000_2023.csv\")\n",
        "geemap.zonal_stats(pop_total, dist, out_pop_stats, stat_type=\"SUM\", scale=100)"
      ]
    },
    {
      "cell_type": "markdown",
      "metadata": {
        "id": "q3dx3F-1h0q9"
      },
      "source": [
        "### **2. Working with Chirps data on a monthly scale**"
      ]
    },
    {
      "cell_type": "code",
      "execution_count": null,
      "metadata": {
        "id": "vdMNv0jFw5hd"
      },
      "outputs": [],
      "source": [
        "# List of years\n",
        "start_year = 2000\n",
        "end_year = 2023\n",
        "scale = 100\n",
        "stats = \"MEAN\""
      ]
    },
    {
      "cell_type": "code",
      "source": [
        "# Original dataset of  Chirps and WorldPop\n",
        "chirps_db = ee.ImageCollection(\"UCSB-CHG/CHIRPS/DAILY\").select('precipitation')\n",
        "world_pop = ee.ImageCollection('WorldPop/GP/100m/pop')\n",
        "inicio = start_year\n",
        "final = end_year + 1\n",
        "list_of_years = range(inicio,final)\n",
        "\n",
        "# New functions for calculating the weighted variable\n",
        "def yearly_monthly_mean(year):\n",
        "  \"\"\"Function to map the monthly_sum() to every month in the months sequences.\"\"\"\n",
        "  def monthly_sum(month):\n",
        "    \"\"\"Function to calculate the sum of rainy days for a given month in a given year.\"\"\"\n",
        "    w = chirps_db\\\n",
        "        .filter(ee.Filter.calendarRange(year, year, 'year')) \\\n",
        "        .filter(ee.Filter.calendarRange(month, month, 'month')) \\\n",
        "        .mean() # The mean of rain in a specific month\n",
        "\n",
        "    pob = world_pop.filter(ee.Filter.calendarRange(year,year, 'year')).mosaic()\n",
        "    weighted = w.multiply(pob)\n",
        "    return weighted.set('year', year).set('month', month).set('system:time_start', ee.Date.fromYMD(year, month, 1))\n",
        "  return months.map(monthly_sum)\n",
        "\n",
        "# New functions for computate the weighted variable\n",
        "def yearly_monthly_mean_2021_2023(year):\n",
        "  \"\"\"Function to map the monthly_sum() to every month in the months sequences.\"\"\"\n",
        "  def monthly_sum(month):\n",
        "    \"\"\"Function to calculate the sum of rainy days for a given month in a given year.\"\"\"\n",
        "    w = chirps_db\\\n",
        "        .filter(ee.Filter.calendarRange(year, year, 'year')) \\\n",
        "        .filter(ee.Filter.calendarRange(month, month, 'month')) \\\n",
        "        .mean() # The mean of rain in a specific month\n",
        "    pob = world_pop.filter(ee.Filter.calendarRange(2020,2020, 'year')).mosaic()\n",
        "    weighted = w.multiply(pob)\n",
        "    return weighted.set('year', year).set('month', month).set('system:time_start', ee.Date.fromYMD(year, month, 1))\n",
        "  return months.map(monthly_sum)\n",
        "\n",
        "for i in list_of_years:\n",
        "  if i <= 2020:\n",
        "    # Defined year\n",
        "    year = i\n",
        "    # List for map process in EE\n",
        "    years = ee.List.sequence(year,year); months = ee.List.sequence(1,12)\n",
        "    # Preprocessing datate in EE\n",
        "    img = ee.ImageCollection.fromImages(years.map(yearly_monthly_mean).flatten()).toBands()\n",
        "    # Output data processed\n",
        "    output = os.path.join(out_dir,f'chirps_monthly_precip_weighted_pob_{year}.csv')\n",
        "    geemap.zonal_stats(img, dist, output, stat_type= stats, scale = scale)\n",
        "    print('dataset exported!')\n",
        "\n",
        "  else:\n",
        "    # Defined year\n",
        "    year = i\n",
        "    # List for map process in EE\n",
        "    years = ee.List.sequence(year,year); months = ee.List.sequence(1,12)\n",
        "    # Preprocessing datate in EE\n",
        "    img = ee.ImageCollection.fromImages(years.map(yearly_monthly_mean_2021_2023).flatten()).toBands()\n",
        "    # Output data processed\n",
        "    output = os.path.join(out_dir,f'chirps_monthly_precip_weighted_pob_{year}.csv')\n",
        "    geemap.zonal_stats(img, dist, output, stat_type= stats, scale = scale)\n",
        "    print('dataset exported!')"
      ],
      "metadata": {
        "id": "sy6PSN1Ww9cw"
      },
      "execution_count": null,
      "outputs": []
    },
    {
      "cell_type": "markdown",
      "metadata": {
        "id": "oP0SXkk6AqVF"
      },
      "source": [
        "### **4. Working with ERA5Land data on a monthly scale**"
      ]
    },
    {
      "cell_type": "code",
      "source": [
        "# List of years\n",
        "start_year = 2000\n",
        "end_year = 2023\n",
        "scale = 100\n",
        "stats = \"MEAN\"\n",
        "variable = \"temperature_2m_min\""
      ],
      "metadata": {
        "colab": {
          "base_uri": "https://localhost:8080/",
          "height": 17
        },
        "id": "GuJF6Vj9eRQe",
        "outputId": "a82b4751-753e-46af-8ab2-aa537dd4f1f0"
      },
      "execution_count": 71,
      "outputs": [
        {
          "output_type": "display_data",
          "data": {
            "text/plain": [
              "<IPython.core.display.HTML object>"
            ],
            "text/html": [
              "\n",
              "            <style>\n",
              "                .geemap-dark {\n",
              "                    --jp-widgets-color: white;\n",
              "                    --jp-widgets-label-color: white;\n",
              "                    --jp-ui-font-color1: white;\n",
              "                    --jp-layout-color2: #454545;\n",
              "                    background-color: #383838;\n",
              "                }\n",
              "\n",
              "                .geemap-dark .jupyter-button {\n",
              "                    --jp-layout-color3: #383838;\n",
              "                }\n",
              "\n",
              "                .geemap-colab {\n",
              "                    background-color: var(--colab-primary-surface-color, white);\n",
              "                }\n",
              "\n",
              "                .geemap-colab .jupyter-button {\n",
              "                    --jp-layout-color3: var(--colab-primary-surface-color, white);\n",
              "                }\n",
              "            </style>\n",
              "            "
            ]
          },
          "metadata": {}
        }
      ]
    },
    {
      "cell_type": "code",
      "source": [
        "# Original dataset of  Era5land and WorldPop\n",
        "era5land = ee.ImageCollection('ECMWF/ERA5_LAND/MONTHLY_AGGR')\n",
        "world_pop = ee.ImageCollection('WorldPop/GP/100m/pop')\n",
        "inicio = start_year\n",
        "final = end_year + 1\n",
        "list_of_years = range(inicio,final)\n",
        "\n",
        "# New functions for computate the weighted variable\n",
        "def yearly_monthly_mean(year):\n",
        "  \"\"\"Function to map the monthly_sum() to every month in the months sequences.\"\"\"\n",
        "  def monthly_sum(month):\n",
        "    \"\"\"Function to calculate the sum of rainy days for a given month in a given year.\"\"\"\n",
        "    w = era5land\\\n",
        "        .select(variable)\\\n",
        "        .filter(ee.Filter.calendarRange(year, year, 'year')) \\\n",
        "        .filter(ee.Filter.calendarRange(month, month, 'month')) \\\n",
        "        .mean() # The mean of rain in a specific month\n",
        "\n",
        "    pob = world_pop.filter(ee.Filter.calendarRange(year,year, 'year')).mosaic()\n",
        "    weighted = w.multiply(pob)\n",
        "    return weighted.set('year', year).set('month', month).set('system:time_start', ee.Date.fromYMD(year, month, 1))\n",
        "  return months.map(monthly_sum)\n",
        "\n",
        "# New functions for computate the weighted variable\n",
        "def yearly_monthly_mean_2021_2023(year):\n",
        "  \"\"\"Function to map the monthly_sum() to every month in the months sequences.\"\"\"\n",
        "  def monthly_sum(month):\n",
        "    \"\"\"Function to calculate the sum of rainy days for a given month in a given year.\"\"\"\n",
        "    w = era5land\\\n",
        "        .select(variable)\\\n",
        "        .filter(ee.Filter.calendarRange(year, year, 'year')) \\\n",
        "        .filter(ee.Filter.calendarRange(month, month, 'month')) \\\n",
        "        .mean() # The mean of rain in a specific month\n",
        "    pob = world_pop.filter(ee.Filter.calendarRange(2020,2020, 'year')).mosaic()\n",
        "    weighted = w.multiply(pob)\n",
        "    return weighted.set('year', year).set('month', month).set('system:time_start', ee.Date.fromYMD(year, month, 1))\n",
        "  return months.map(monthly_sum)\n",
        "\n",
        "for i in list_of_years:\n",
        "  if i <= 2020:\n",
        "    # Defined year\n",
        "    year = i\n",
        "    # List for map process in EE\n",
        "    years = ee.List.sequence(year,year); months = ee.List.sequence(1,12)\n",
        "    # Preprocessing datate in EE\n",
        "    img = ee.ImageCollection.fromImages(years.map(yearly_monthly_mean).flatten()).toBands()\n",
        "    # Output data processed\n",
        "    output = os.path.join(out_dir,f'era5land_monthly_{variable}_weighted_pob_{year}.csv')\n",
        "    geemap.zonal_stats(img, dist, output, stat_type= stats, scale = scale)\n",
        "    print('dataset exported!')\n",
        "\n",
        "  else:\n",
        "    # Defined year\n",
        "    year = i\n",
        "    # List for map process in EE\n",
        "    years = ee.List.sequence(year,year); months = ee.List.sequence(1,12)\n",
        "    # Preprocessing datate in EE\n",
        "    img = ee.ImageCollection.fromImages(years.map(yearly_monthly_mean_2021_2023).flatten()).toBands()\n",
        "    # Output data processed\n",
        "    output = os.path.join(out_dir,f'era5land_monthly_{variable}_weighted_pob_{year}.csv')\n",
        "    geemap.zonal_stats(img, dist, output, stat_type= stats, scale = scale)\n",
        "    print('dataset exported!')"
      ],
      "metadata": {
        "id": "eLhmau2xdPjG"
      },
      "execution_count": null,
      "outputs": []
    },
    {
      "cell_type": "markdown",
      "source": [
        "### **8. Working with ERA5Land - Tmean**"
      ],
      "metadata": {
        "id": "WNVXehRM9USZ"
      }
    },
    {
      "cell_type": "code",
      "source": [
        "# List of years\n",
        "start_year = 2000\n",
        "end_year = 2023\n",
        "scale = 100\n",
        "stats = \"MEAN\"\n",
        "variable_max = \"temperature_2m_max\"\n",
        "variable_min = \"temperature_2m_min\""
      ],
      "metadata": {
        "id": "bXRIyTd2gqMp"
      },
      "execution_count": null,
      "outputs": []
    },
    {
      "cell_type": "code",
      "source": [
        "# Original dataset of  Era5land and WorldPop\n",
        "era5land = ee.ImageCollection('ECMWF/ERA5_LAND/MONTHLY_AGGR')\n",
        "world_pop = ee.ImageCollection('WorldPop/GP/100m/pop')\n",
        "inicio = start_year\n",
        "final = end_year + 1\n",
        "list_of_years = range(inicio,final)\n",
        "\n",
        "# New functions for computate the weighted variable\n",
        "def yearly_monthly_mean(year):\n",
        "  \"\"\"Function to map the monthly_sum() to every month in the months sequences.\"\"\"\n",
        "  def monthly_sum(month):\n",
        "    \"\"\"Function to calculate the sum of rainy days for a given month in a given year.\"\"\"\n",
        "\n",
        "    # Maximun value\n",
        "    w_max = era5land\\\n",
        "        .select(variable_max)\\\n",
        "        .filter(ee.Filter.calendarRange(year, year, 'year')) \\\n",
        "        .filter(ee.Filter.calendarRange(month, month, 'month')) \\\n",
        "        .mean() # The mean of rain in a specific month\n",
        "\n",
        "    # Minimum value\n",
        "    w_min = era5land\\\n",
        "        .select(variable_min).filter(ee.Filter.calendarRange(year, year, 'year')) \\\n",
        "        .filter(ee.Filter.calendarRange(month, month, 'month')) \\\n",
        "        .mean()\\\n",
        "        .subtract(273.15)\n",
        "\n",
        "    # Mean Value\n",
        "    w_mean = w_max.add(w_min).divide(ee.Image(2)).rename('tmean')\n",
        "\n",
        "    # Population value\n",
        "    pob = world_pop.filter(ee.Filter.calendarRange(year,year, 'year')).mosaic()\n",
        "\n",
        "    # Weighted variable\n",
        "    w_pob = w_mean.multiply(pob)\n",
        "\n",
        "    return w_pob.set('year', year).set('month', month).set('system:time_start', ee.Date.fromYMD(year, month, 1))\n",
        "  return months.map(monthly_sum)\n",
        "\n",
        "# New functions for computate the weighted variable\n",
        "def yearly_monthly_mean_2021_2023(year):\n",
        "  \"\"\"Function to map the monthly_sum() to every month in the months sequences.\"\"\"\n",
        "  def monthly_sum(month):\n",
        "    \"\"\"Function to calculate the sum of rainy days for a given month in a given year.\"\"\"\n",
        "\n",
        "    # Maximun value\n",
        "    w_max = era5land\\\n",
        "        .select(variable_max)\\\n",
        "        .filter(ee.Filter.calendarRange(year, year, 'year')) \\\n",
        "        .filter(ee.Filter.calendarRange(month, month, 'month')) \\\n",
        "        .mean() # The mean of rain in a specific month\n",
        "\n",
        "    # Minimum value\n",
        "    w_min = era5land\\\n",
        "        .select(variable_min).filter(ee.Filter.calendarRange(year, year, 'year')) \\\n",
        "        .filter(ee.Filter.calendarRange(month, month, 'month')) \\\n",
        "        .mean()\\\n",
        "        .subtract(273.15)\n",
        "\n",
        "    # Mean Value\n",
        "    w_mean = w_max.add(w_min).divide(ee.Image(2)).rename('tmean')\n",
        "\n",
        "    # Population value\n",
        "    pob = world_pop.filter(ee.Filter.calendarRange(2020,2020, 'year')).mosaic()\n",
        "\n",
        "    # Weighted variable\n",
        "    w_pob = w_mean.multiply(pob)\n",
        "\n",
        "    return w_pob.set('year', year).set('month', month).set('system:time_start', ee.Date.fromYMD(year, month, 1))\n",
        "  return months.map(monthly_sum)\n",
        "\n",
        "for i in list_of_years:\n",
        "  if i <= 2020:\n",
        "    # Defined year\n",
        "    year = i\n",
        "    # List for map process in EE\n",
        "    years = ee.List.sequence(year,year); months = ee.List.sequence(1,12)\n",
        "    # Preprocessing datate in EE\n",
        "    img = ee.ImageCollection.fromImages(years.map(yearly_monthly_mean).flatten()).toBands()\n",
        "    # Output data processed\n",
        "    output = os.path.join(out_dir,f'era5land_monthly_temperature_2m_mean_weighted_pob_{year}.csv')\n",
        "    geemap.zonal_stats(img, dist, output, stat_type= stats, scale = scale)\n",
        "    print('dataset exported!')\n",
        "\n",
        "  else:\n",
        "    # Defined year\n",
        "    year = i\n",
        "    # List for map process in EE\n",
        "    years = ee.List.sequence(year,year); months = ee.List.sequence(1,12)\n",
        "    # Preprocessing datate in EE\n",
        "    img = ee.ImageCollection.fromImages(years.map(yearly_monthly_mean_2021_2023).flatten()).toBands()\n",
        "    # Output data processed\n",
        "    output = os.path.join(out_dir,f'era5land_monthly_temperature_2m_mean_weighted_pob_{year}.csv')\n",
        "    geemap.zonal_stats(img, dist, output, stat_type= stats, scale = scale)\n",
        "    print('dataset exported!')"
      ],
      "metadata": {
        "id": "2g-J2wVBgwHR"
      },
      "execution_count": null,
      "outputs": []
    }
  ],
  "metadata": {
    "colab": {
      "provenance": [],
      "mount_file_id": "1rjEyfU_vGjAuHuQUzZzCmSYH3awfiATZ",
      "authorship_tag": "ABX9TyMeSFD3CFb8R6ROje8+ocYT",
      "include_colab_link": true
    },
    "kernelspec": {
      "display_name": "Python 3",
      "name": "python3"
    },
    "language_info": {
      "name": "python"
    }
  },
  "nbformat": 4,
  "nbformat_minor": 0
}